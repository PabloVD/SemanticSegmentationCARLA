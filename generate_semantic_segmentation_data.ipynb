{
 "cells": [
  {
   "cell_type": "code",
   "execution_count": 1,
   "metadata": {},
   "outputs": [],
   "source": [
    "# From https://www.youtube.com/watch?v=ztrkbh4mNaA\n",
    "\n",
    "#!pip3 install carla\n",
    "import carla\n",
    "import random\n",
    "import time\n",
    "\n",
    "# Connect to the client and retrieve the world object\n",
    "client = carla.Client('localhost', 2000)\n",
    "\n",
    "world = client.get_world()\n",
    "\n",
    "\"\"\"\n",
    "# Set up the simulator in synchronous mode\n",
    "settings = world.get_settings()\n",
    "settings.synchronous_mode = True # Enables synchronous mode\n",
    "settings.fixed_delta_seconds = 0.05\n",
    "world.apply_settings(settings)\n",
    "world.tick()\n",
    "\n",
    "# Set up the TM in synchronous mode\n",
    "traffic_manager = client.get_trafficmanager()\n",
    "traffic_manager.set_synchronous_mode(True)\n",
    "\n",
    "# Set a seed so behaviour can be repeated if necessary\n",
    "traffic_manager.set_random_device_seed(0)\n",
    "random.seed(0)\n",
    "#\"\"\"\n",
    "\n",
    "# Retrieve the spectator object\n",
    "spectator = world.get_spectator()\n",
    "\n",
    "spawn_points = world.get_map().get_spawn_points()\n",
    "\n",
    "bp_lib = world.get_blueprint_library()\n"
   ]
  },
  {
   "cell_type": "code",
   "execution_count": 2,
   "metadata": {},
   "outputs": [],
   "source": [
    "def run_iteration(runtime=30.):\n",
    "    \n",
    "    vehicle_bp = bp_lib.find(\"vehicle.lincoln.mkz_2020\")\n",
    "    vehicle = world.spawn_actor(vehicle_bp, random.choice(spawn_points))\n",
    "\n",
    "    # Move to the spectator place\n",
    "    ego_transf = carla.Transform(vehicle.get_transform().transform(carla.Location(x=-4,z=2.5)), vehicle.get_transform().rotation)\n",
    "    spectator.set_transform(ego_transf)\n",
    "\n",
    "    # Create a transform to place the camera on top of the vehicle\n",
    "    camera_init_trans = carla.Transform(carla.Location(z=1.6, x=0.4))\n",
    "    # We create the camera through a blueprint that defines its properties\n",
    "    camera_rgb_bp = bp_lib.find('sensor.camera.rgb')\n",
    "    # We spawn the camera and attach it to our ego vehicle\n",
    "    camera_rgb = world.spawn_actor(camera_rgb_bp, camera_init_trans, attach_to=vehicle)\n",
    "    # We create the camera through a blueprint that defines its properties\n",
    "    camera_ss_bp = bp_lib.find('sensor.camera.semantic_segmentation')\n",
    "    # We spawn the camera and attach it to our ego vehicle\n",
    "    camera_ss = world.spawn_actor(camera_ss_bp, camera_init_trans, attach_to=vehicle)\n",
    "\n",
    "    # Spawn vehicles\n",
    "    vehicle_blueprints = bp_lib.filter('*vehicle*')\n",
    "\n",
    "    # Spawn 50 vehicles randomly distributed throughout the map \n",
    "    # for each spawn point, we choose a random vehicle from the blueprint library\n",
    "    for i in range(0,50):\n",
    "        world.try_spawn_actor(random.choice(vehicle_blueprints), random.choice(spawn_points))\n",
    "\n",
    "    camera_rgb.listen(lambda image: image.save_to_disk('CARLA_data/Images/%06d.png' % image.frame))\n",
    "    camera_ss.listen(lambda image: image.save_to_disk('CARLA_data/Masks/%06d.png' % image.frame)) \n",
    "\n",
    "    # Set Traffic Manager autopilot for all cars\n",
    "    for vehicle in world.get_actors().filter('vehicle*'):\n",
    "        vehicle.set_autopilot(True)\n",
    "    \n",
    "    \"\"\"\n",
    "    while True:\n",
    "        world.tick()\n",
    "    \"\"\"\n",
    "\n",
    "    time.sleep(runtime)\n",
    "    camera_rgb.stop()\n",
    "    camera_ss.stop()\n",
    "\n",
    "    for vehicle in world.get_actors().filter('vehicle*'):\n",
    "        vehicle.destroy()\n",
    "    for cam in world.get_actors().filter('camera*'):\n",
    "        cam.destroy()"
   ]
  },
  {
   "cell_type": "code",
   "execution_count": 3,
   "metadata": {},
   "outputs": [
    {
     "name": "stderr",
     "output_type": "stream",
     "text": [
      "\n",
      "KeyboardInterrupt\n",
      "\n"
     ]
    }
   ],
   "source": [
    "for i in range(5):\n",
    "    run_iteration()"
   ]
  },
  {
   "cell_type": "code",
   "execution_count": null,
   "metadata": {},
   "outputs": [],
   "source": [
    "# Always disable sync mode before the script ends to prevent the server blocking whilst waiting for a tick\n",
    "settings.synchronous_mode = False\n",
    "world.apply_settings(settings)\n",
    "traffic_manager.set_synchronous_mode(False)"
   ]
  }
 ],
 "metadata": {
  "kernelspec": {
   "display_name": "carlaenv",
   "language": "python",
   "name": "carlaenv"
  },
  "language_info": {
   "codemirror_mode": {
    "name": "ipython",
    "version": 3
   },
   "file_extension": ".py",
   "mimetype": "text/x-python",
   "name": "python",
   "nbconvert_exporter": "python",
   "pygments_lexer": "ipython3",
   "version": "3.8.10"
  },
  "vscode": {
   "interpreter": {
    "hash": "767d51c1340bd893661ea55ea3124f6de3c7a262a8b4abca0554b478b1e2ff90"
   }
  }
 },
 "nbformat": 4,
 "nbformat_minor": 2
}
